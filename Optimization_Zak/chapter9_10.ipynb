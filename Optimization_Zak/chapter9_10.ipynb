{
  "nbformat": 4,
  "nbformat_minor": 0,
  "metadata": {
    "colab": {
      "provenance": []
    },
    "kernelspec": {
      "name": "python3",
      "display_name": "Python 3"
    },
    "language_info": {
      "name": "python"
    }
  },
  "cells": [
    {
      "cell_type": "code",
      "execution_count": 1,
      "metadata": {
        "id": "oVIT9IKlwnjm",
        "colab": {
          "base_uri": "https://localhost:8080/"
        },
        "outputId": "9680595d-0c1b-4aed-eb11-5967ebd2832a"
      },
      "outputs": [
        {
          "output_type": "stream",
          "name": "stderr",
          "text": [
            "<ipython-input-1-66ed62b95423>:5: DeprecationWarning: Please use `norm` from the `scipy.linalg` namespace, the `scipy.linalg.matfuncs` namespace is deprecated.\n",
            "  from scipy.linalg.matfuncs import norm\n"
          ]
        }
      ],
      "source": [
        "import numpy as np\n",
        "import matplotlib.pyplot as plt\n",
        "from sympy import *\n",
        "from scipy import optimize\n",
        "from scipy.linalg.matfuncs import norm\n",
        "from functools import partial\n",
        "import time"
      ]
    },
    {
      "cell_type": "markdown",
      "source": [
        "# Example 10.3"
      ],
      "metadata": {
        "id": "E_XfH8SflgpR"
      }
    },
    {
      "cell_type": "code",
      "source": [
        "x1 = Symbol('x1')\n",
        "x2 = Symbol('x2')\n",
        "x3 = Symbol('x3')\n",
        "syms = Matrix([x1,x2,x3])\n",
        "\n",
        "q = Matrix([[3 , 0 , 1],[0, 4 , 2],[1, 2, 3]])\n",
        "x0 = Matrix([0, 0, 0])\n",
        "f = (3/2)*x1**2+2*x2**2+(3/2)*x3**2+x1*x3+2*x2*x3-3*x1-x3\n",
        "f1 = lambdify([x1,x2,x3] , f)\n",
        "g = [diff(f,x1) , diff(f,x2) , diff(f,x3)]\n",
        "g1 = lambdify([x1 , x2 , x3] , g)\n",
        "g0 = Matrix(g1(x0[0], x0[1] , x0[2]))\n",
        "i = 0\n",
        "if g0 !=0 :\n",
        "  d0 = -g0\n",
        "  while (round(norm(g0,1),4)) != 0 :\n",
        "    gd = g0.T*d0\n",
        "    dqd = d0.T*q*d0\n",
        "    alpha0 = -(gd[0])/(dqd[0])\n",
        "    x1 = x0+alpha0*d0\n",
        "    x0 = x1\n",
        "    g0 = Matrix(g1(x0[0], x0[1] , x0[2]))\n",
        "    gqd = g0.T*q*d0\n",
        "    beta0 = gqd[0]/dqd[0]\n",
        "    d1 = -g0 + beta0 * d0\n",
        "    d0 = d1\n",
        "    i+=1\n",
        "else :\n",
        "  print('optimal point :')\n",
        "  print(x0)\n",
        "\n",
        "print ('iteration :', i)\n",
        "print ('optimal point :')\n",
        "round3 = partial(round, ndigits=4)\n",
        "x1.applyfunc(round3)"
      ],
      "metadata": {
        "colab": {
          "base_uri": "https://localhost:8080/",
          "height": 114
        },
        "id": "5J9_rFB3wvt9",
        "outputId": "dd5af6e9-70d2-4cf1-b0df-e45f14c51662"
      },
      "execution_count": 2,
      "outputs": [
        {
          "output_type": "stream",
          "name": "stdout",
          "text": [
            "iteration : 3\n",
            "optimal point :\n"
          ]
        },
        {
          "output_type": "execute_result",
          "data": {
            "text/plain": [
              "Matrix([\n",
              "[1.0],\n",
              "[  0],\n",
              "[  0]])"
            ],
            "text/latex": "$\\displaystyle \\left[\\begin{matrix}1.0\\\\0\\\\0\\end{matrix}\\right]$"
          },
          "metadata": {},
          "execution_count": 2
        }
      ]
    },
    {
      "cell_type": "markdown",
      "source": [
        "# Exercise 8.26"
      ],
      "metadata": {
        "id": "JxPT0E2k1ggE"
      }
    },
    {
      "cell_type": "markdown",
      "source": [
        "# Hestenes Stiefel formula "
      ],
      "metadata": {
        "id": "EDEqx3B3jeCa"
      }
    },
    {
      "cell_type": "code",
      "source": [
        "x1 = Symbol('x1')\n",
        "x2 = Symbol('x2')\n",
        "alpha = Symbol('alpha')\n",
        "\n",
        "x0 = Matrix([-2, 2])\n",
        "f = 100*(x2-x1**2)**2+(1-x1)**2\n",
        "f1 = lambdify([x1,x2] , f)\n",
        "g = [diff(f,x1) , diff(f,x2) ]\n",
        "g1 = lambdify([x1 , x2 ] , g)\n",
        "g0 = Matrix(g1(x0[0], x0[1]))\n",
        "d0 = -g0\n",
        "a = Matrix(x0+alpha*d0)\n",
        "f_alpha = f1(a[0], a[1])\n",
        "f1_alpha = lambdify(alpha , f_alpha)\n",
        "alpha0 = optimize.fmin(f1_alpha, 0,disp=False)\n",
        "alpha0 = alpha0[0]\n",
        "x1 = x0+alpha0*d0\n",
        "g2 = Matrix(g1(x1[0], x1[1]))\n",
        "i = 0\n",
        "if g0 !=0 :\n",
        "  d0 = -g0\n",
        "  while (round(norm(g0,1),5)) != 0 :\n",
        "    a = Matrix(x0+alpha*d0)\n",
        "    f_alpha = f1(a[0], a[1])\n",
        "    f1_alpha = lambdify(alpha , f_alpha)\n",
        "    alpha0 = optimize.fmin(f1_alpha, 0,disp=False)\n",
        "    alpha0 = alpha0[0]\n",
        "    x1 = x0+alpha0*d0\n",
        "    g2 = Matrix(g1(x1[0], x1[1]))\n",
        "    x0 = x1\n",
        "    g2g0 = g2.T*(g2-g0)\n",
        "    d0g2 = d0.T*(g2-g0)\n",
        "    beta0 = g2g0[0]/d0g2[0]\n",
        "    g0 = Matrix(g1(x0[0], x0[1]))\n",
        "    d1 = -g0 + beta0 * d0\n",
        "    d0 = d1\n",
        "    i+=1\n",
        "else :\n",
        "  print('optimal point :')\n",
        "  print(x0)\n",
        "\n",
        "print ('iteration :', i)\n",
        "print ('optimal point :')\n",
        "round3 = partial(round, ndigits=4)\n",
        "x1.applyfunc(round3)"
      ],
      "metadata": {
        "colab": {
          "base_uri": "https://localhost:8080/",
          "height": 93
        },
        "id": "u4vgM-6jPEXg",
        "outputId": "02039068-5480-4ce5-dd08-ab560d4df46b"
      },
      "execution_count": 3,
      "outputs": [
        {
          "output_type": "stream",
          "name": "stdout",
          "text": [
            "iteration : 25\n",
            "optimal point :\n"
          ]
        },
        {
          "output_type": "execute_result",
          "data": {
            "text/plain": [
              "Matrix([\n",
              "[1.0],\n",
              "[1.0]])"
            ],
            "text/latex": "$\\displaystyle \\left[\\begin{matrix}1.0\\\\1.0\\end{matrix}\\right]$"
          },
          "metadata": {},
          "execution_count": 3
        }
      ]
    },
    {
      "cell_type": "markdown",
      "source": [
        "# Polak-Ribiere formula"
      ],
      "metadata": {
        "id": "Cscjd8LLjpTm"
      }
    },
    {
      "cell_type": "code",
      "source": [
        "x1 = Symbol('x1')\n",
        "x2 = Symbol('x2')\n",
        "alpha = Symbol('alpha')\n",
        "\n",
        "x0 = Matrix([-2, 2])\n",
        "f = 100*(x2-x1**2)**2+(1-x1)**2\n",
        "f1 = lambdify([x1,x2] , f)\n",
        "g = [diff(f,x1) , diff(f,x2) ]\n",
        "g1 = lambdify([x1 , x2 ] , g)\n",
        "g0 = Matrix(g1(x0[0], x0[1]))\n",
        "d0 = -g0\n",
        "a = Matrix(x0+alpha*d0)\n",
        "f_alpha = f1(a[0], a[1])\n",
        "f1_alpha = lambdify(alpha , f_alpha)\n",
        "alpha0 = optimize.fmin(f1_alpha, 0,disp=False)\n",
        "alpha0 = alpha0[0]\n",
        "x1 = x0+alpha0*d0\n",
        "g2 = Matrix(g1(x1[0], x1[1]))\n",
        "i = 0\n",
        "if g0 !=0 :\n",
        "  d0 = -g0\n",
        "  while (round(norm(g0,1),5)) != 0 :\n",
        "    a = Matrix(x0+alpha*d0)\n",
        "    f_alpha = f1(a[0], a[1])\n",
        "    f1_alpha = lambdify(alpha , f_alpha)\n",
        "    alpha0 = optimize.fmin(f1_alpha, 0,disp=False)\n",
        "    alpha0 = alpha0[0]\n",
        "    x1 = x0+alpha0*d0\n",
        "    g2 = Matrix(g1(x1[0], x1[1]))\n",
        "    x0 = x1\n",
        "    g2g0 = g2.T*(g2-g0)\n",
        "    g0tg0 = g0.T*g0\n",
        "    beta0 = g2g0[0]/g0tg0[0]\n",
        "    g0 = Matrix(g1(x0[0], x0[1]))\n",
        "    d1 = -g0 + beta0 * d0\n",
        "    d0 = d1\n",
        "    i+=1\n",
        "else :\n",
        "  print('optimal point :')\n",
        "  print(x0)\n",
        "\n",
        "print ('iteration :', i)\n",
        "print ('optimal point :')\n",
        "round3 = partial(round, ndigits=4)\n",
        "x1.applyfunc(round3)"
      ],
      "metadata": {
        "colab": {
          "base_uri": "https://localhost:8080/",
          "height": 93
        },
        "id": "4qnpudC1jwnS",
        "outputId": "c1d8eb79-2b6f-4fd2-c1f5-4014b225f5d5"
      },
      "execution_count": 4,
      "outputs": [
        {
          "output_type": "stream",
          "name": "stdout",
          "text": [
            "iteration : 30\n",
            "optimal point :\n"
          ]
        },
        {
          "output_type": "execute_result",
          "data": {
            "text/plain": [
              "Matrix([\n",
              "[1.0],\n",
              "[1.0]])"
            ],
            "text/latex": "$\\displaystyle \\left[\\begin{matrix}1.0\\\\1.0\\end{matrix}\\right]$"
          },
          "metadata": {},
          "execution_count": 4
        }
      ]
    },
    {
      "cell_type": "markdown",
      "source": [
        "# Fletcher-Reeves formula"
      ],
      "metadata": {
        "id": "mRTGMjDPkvRp"
      }
    },
    {
      "cell_type": "code",
      "source": [
        "x1 = Symbol('x1')\n",
        "x2 = Symbol('x2')\n",
        "alpha = Symbol('alpha')\n",
        "\n",
        "x0 = Matrix([-2, 2])\n",
        "f = 100*(x2-x1**2)**2+(1-x1)**2\n",
        "f1 = lambdify([x1,x2] , f)\n",
        "g = [diff(f,x1) , diff(f,x2) ]\n",
        "g1 = lambdify([x1 , x2 ] , g)\n",
        "g0 = Matrix(g1(x0[0], x0[1]))\n",
        "d0 = -g0\n",
        "a = Matrix(x0+alpha*d0)\n",
        "f_alpha = f1(a[0], a[1])\n",
        "f1_alpha = lambdify(alpha , f_alpha)\n",
        "alpha0 = optimize.fmin(f1_alpha, 0,disp=False)\n",
        "alpha0 = alpha0[0]\n",
        "x1 = x0+alpha0*d0\n",
        "g2 = Matrix(g1(x1[0], x1[1]))\n",
        "i = 0\n",
        "if g0 !=0 :\n",
        "  d0 = -g0\n",
        "  while (round(norm(g0,1),5)) != 0 :\n",
        "    a = Matrix(x0+alpha*d0)\n",
        "    f_alpha = f1(a[0], a[1])\n",
        "    f1_alpha = lambdify(alpha , f_alpha)\n",
        "    alpha0 = optimize.fmin(f1_alpha, 0,disp=False)\n",
        "    alpha0 = alpha0[0]\n",
        "    x1 = x0+alpha0*d0\n",
        "    g2 = Matrix(g1(x1[0], x1[1]))\n",
        "    x0 = x1\n",
        "    g2tg2 = g2.T*g2\n",
        "    g0tg0 = g0.T*g0\n",
        "    beta0 = g2tg2[0]/g0tg0[0]\n",
        "    g0 = Matrix(g1(x0[0], x0[1]))\n",
        "    d1 = -g0 + beta0 * d0\n",
        "    d0 = d1\n",
        "    i+=1\n",
        "else :\n",
        "  print('optimal point :')\n",
        "  print(x0)\n",
        "\n",
        "print ('iteration :', i)\n",
        "print ('optimal point :')\n",
        "round3 = partial(round, ndigits=4)\n",
        "x1.applyfunc(round3)"
      ],
      "metadata": {
        "colab": {
          "base_uri": "https://localhost:8080/",
          "height": 93
        },
        "id": "T8b6POpnkglz",
        "outputId": "8a3aaa1b-5d2f-436d-94b1-af2a329c8f8e"
      },
      "execution_count": 5,
      "outputs": [
        {
          "output_type": "stream",
          "name": "stdout",
          "text": [
            "iteration : 135\n",
            "optimal point :\n"
          ]
        },
        {
          "output_type": "execute_result",
          "data": {
            "text/plain": [
              "Matrix([\n",
              "[1.0],\n",
              "[1.0]])"
            ],
            "text/latex": "$\\displaystyle \\left[\\begin{matrix}1.0\\\\1.0\\end{matrix}\\right]$"
          },
          "metadata": {},
          "execution_count": 5
        }
      ]
    },
    {
      "cell_type": "markdown",
      "source": [
        "# Newton's method"
      ],
      "metadata": {
        "id": "J-KMhaXG4mpj"
      }
    },
    {
      "cell_type": "code",
      "source": [
        "x1 = Symbol('x1')\n",
        "x2 = Symbol('x2')\n",
        "alpha = Symbol('alpha')\n",
        "x0 = Matrix([-2,2])\n",
        "eps = 10**(-4)\n",
        "syms = Matrix([x1,x2])\n",
        "f = 100*(x2-x1**2)**2+(1-x1)**2\n",
        "f1 = lambdify(syms , f)\n",
        "Matrix_f = Matrix([f])\n",
        "grad_f = Matrix_f.jacobian(syms).T\n",
        "grad_f1=lambdify([x1 , x2] , grad_f)\n",
        "grad_fx0 = Matrix(grad_f1(x0[0], x0[1]))\n",
        "jacobi_f = Matrix([grad_f.jacobian(syms)])\n",
        "jacobi_f1 = lambdify([x1 , x2] , jacobi_f)\n",
        "jac_f_x0 = Matrix(jacobi_f1(x0[0], x0[1]))\n",
        "i = 0\n",
        "if jac_f_x0.is_positive_definite :\n",
        "  while norm(grad_fx0,np.inf)>=eps :\n",
        "    grad_f_x0 = Matrix(grad_f1(x0[0], x0[1]))\n",
        "    jac_f_x0 = Matrix(jacobi_f1(x0[0], x0[1]))\n",
        "    x1 = x0 - (jac_f_x0.inv())*grad_f_x0\n",
        "    grad_fx0 = Matrix(grad_f1(x0[0], x0[1]))\n",
        "    x0 = x1\n",
        "    i+=1\n",
        "\n",
        "else :\n",
        "  for i in range(3):\n",
        "    a = Matrix(x0 - alpha*(jac_f_x0.inv())*grad_fx0)\n",
        "    f_alpha = f1(a[0], a[1])\n",
        "    f1_alpha = lambdify(alpha , f_alpha)\n",
        "    alpha0 = optimize.fmin(f1_alpha, 0.3,disp=False)\n",
        "    alpha0 = alpha0[0]\n",
        "    x1 = x0 - alpha*(jac_f_x0.inv())*grad_fx0\n",
        "    x0=x1\n",
        "\n",
        "\n",
        "print ('iteration :', i)\n",
        "print ('optimal point :')\n",
        "round3 = partial(round, ndigits=4)\n",
        "x0.applyfunc(round3)"
      ],
      "metadata": {
        "id": "8ePURcR76EAs",
        "colab": {
          "base_uri": "https://localhost:8080/",
          "height": 93
        },
        "outputId": "917c47ca-f052-47f8-bb7c-31b1de0e6f15"
      },
      "execution_count": 6,
      "outputs": [
        {
          "output_type": "stream",
          "name": "stdout",
          "text": [
            "iteration : 6\n",
            "optimal point :\n"
          ]
        },
        {
          "output_type": "execute_result",
          "data": {
            "text/plain": [
              "Matrix([\n",
              "[1.0],\n",
              "[1.0]])"
            ],
            "text/latex": "$\\displaystyle \\left[\\begin{matrix}1.0\\\\1.0\\end{matrix}\\right]$"
          },
          "metadata": {},
          "execution_count": 6
        }
      ]
    },
    {
      "cell_type": "markdown",
      "source": [
        "# Example 9.3"
      ],
      "metadata": {
        "id": "QN33RJFKfgbU"
      }
    },
    {
      "cell_type": "code",
      "source": [
        "t=[ 0, 0.5000, 1.0000, 1.5000, 2.0000, 2.5000, 3.0000, 3.5000, 4.0000, 4.5000, 5.0000, 5.5000, 6.0000, \n",
        "   6.5000, 7.0000, 7.5000, 8.0000, 8.5000, 9.0000, 9.5000, 10.0000]\n",
        "\n",
        "y=[1.4147, 1.9198, 1.9548, 1.5112, 0.6977, -0.2867, -1.2009, -1.8211, -1.9954, -1.6811, -0.9553, 0.0044,\n",
        "    0.9631, 1.6859, 1.9960, 1.8174, 1.1938, 0.2780, -0.7060, -1.5170, -1.9567]"
      ],
      "metadata": {
        "id": "ZPhW564b2U7Z"
      },
      "execution_count": 11,
      "outputs": []
    },
    {
      "cell_type": "code",
      "source": [
        "x1 = Symbol('x1')\n",
        "x2 = Symbol('x2')\n",
        "x3 = Symbol('x3')\n",
        "y1 = np.zeros(len(y))\n",
        "r = np.ones(len(y))\n",
        "x0 = Matrix([2.5,1,1])\n",
        "j = np.zeros([21,3])\n",
        "for k in range(30):\n",
        "  for i in range(len(t)):\n",
        "    y1[i] = x0[0] * sin(x0[1]*t[i]+x0[2])\n",
        "    j[i][0] = -sin(t[i]*x0[1] + x0[2])\n",
        "    j[i][1] = -t[i]* x0[0] * cos(t[i]*x0[1]+x0[2])\n",
        "    j[i][2] = -x0[0] * cos(t[i]*x0[1]+x0[2])\n",
        "    r[i] = y[i] - y1[i]\n",
        "  jt = j.T\n",
        "  inv_j_jt = np.linalg.inv(np.dot(jt, j))\n",
        "  jj = np.dot(inv_j_jt,jt)\n",
        "  r1 = (Matrix([r]).T)\n",
        "  x1 = x0 - np.dot(jj , r1)\n",
        "  x0 = x1\n"
      ],
      "metadata": {
        "id": "dfhcV50IBG7H"
      },
      "execution_count": 12,
      "outputs": []
    },
    {
      "cell_type": "code",
      "source": [
        "x0"
      ],
      "metadata": {
        "colab": {
          "base_uri": "https://localhost:8080/",
          "height": 78
        },
        "id": "xXdUoRKsYhIs",
        "outputId": "3cafe6ec-9668-42ce-fc97-14101f4434c4"
      },
      "execution_count": 13,
      "outputs": [
        {
          "output_type": "execute_result",
          "data": {
            "text/plain": [
              "Matrix([\n",
              "[ 2.00070552699679],\n",
              "[ 1.00000010159583],\n",
              "[0.785396233418194]])"
            ],
            "text/latex": "$\\displaystyle \\left[\\begin{matrix}2.00070552699679\\\\1.00000010159583\\\\0.785396233418194\\end{matrix}\\right]$"
          },
          "metadata": {},
          "execution_count": 13
        }
      ]
    },
    {
      "cell_type": "code",
      "source": [
        "plt.scatter(t,y)\n",
        "plt.plot(t,y1,'g')"
      ],
      "metadata": {
        "colab": {
          "base_uri": "https://localhost:8080/",
          "height": 448
        },
        "id": "3kl84evEY67m",
        "outputId": "cb09a6a6-9ff6-45bc-df03-c08b510d5698"
      },
      "execution_count": 14,
      "outputs": [
        {
          "output_type": "execute_result",
          "data": {
            "text/plain": [
              "[<matplotlib.lines.Line2D at 0x7ffb019213f0>]"
            ]
          },
          "metadata": {},
          "execution_count": 14
        },
        {
          "output_type": "display_data",
          "data": {
            "text/plain": [
              "<Figure size 640x480 with 1 Axes>"
            ],
            "image/png": "[encoded data removed]"
          },
          "metadata": {}
        }
      ]
    }
  ]
}